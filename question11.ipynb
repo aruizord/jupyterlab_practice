{
 "cells": [
  {
   "cell_type": "markdown",
   "id": "fa3fad5e-3dc0-4866-b1a6-11c87189781b",
   "metadata": {},
   "source": [
    "# Alberto Ruiz\n",
    "\n",
    "Notebook for assignment 7"
   ]
  },
  {
   "cell_type": "code",
   "execution_count": 1,
   "id": "384a4652-b228-4bfe-bb95-d2465540a74c",
   "metadata": {},
   "outputs": [
    {
     "data": {
      "text/plain": [
       "5.0"
      ]
     },
     "execution_count": 1,
     "metadata": {},
     "output_type": "execute_result"
    }
   ],
   "source": [
    "def compute_mean(list_numbers):\n",
    "        return sum(list_numbers)/len(list_numbers)\n",
    "compute_mean([2, 4, 6, 8])"
   ]
  },
  {
   "cell_type": "markdown",
   "id": "fb2236c6-b158-46c3-83fb-285dfa657f37",
   "metadata": {},
   "source": [
    "This code calculates the mean of a series of numbers. The average is calculated as follows:\n"
   ]
  },
  {
   "cell_type": "markdown",
   "id": "de6d6ba3-919f-47c4-bc00-d73862a5a7c2",
   "metadata": {},
   "source": [
    "$$\\bar{x}=\\frac{x_{1}+x_{2}+...+x_{n}}{n}=\\frac{1}{n} \\left(\\sum_{i=1}^{n}x_{i} \\right)$$"
   ]
  },
  {
   "cell_type": "code",
   "execution_count": null,
   "id": "87844581-e053-4571-9d93-e5388ad37c50",
   "metadata": {
    "jupyter": {
     "source_hidden": true
    }
   },
   "outputs": [],
   "source": []
  }
 ],
 "metadata": {
  "kernelspec": {
   "display_name": "Python [conda env:base] *",
   "language": "python",
   "name": "conda-base-py"
  },
  "language_info": {
   "codemirror_mode": {
    "name": "ipython",
    "version": 3
   },
   "file_extension": ".py",
   "mimetype": "text/x-python",
   "name": "python",
   "nbconvert_exporter": "python",
   "pygments_lexer": "ipython3",
   "version": "3.12.3"
  }
 },
 "nbformat": 4,
 "nbformat_minor": 5
}
